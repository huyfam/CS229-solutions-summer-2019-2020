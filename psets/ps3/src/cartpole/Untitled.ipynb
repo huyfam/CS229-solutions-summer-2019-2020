{
 "cells": [
  {
   "cell_type": "code",
   "execution_count": 1,
   "id": "45d9e8d5-ecd4-4ac5-b70e-f18ca5e39727",
   "metadata": {},
   "outputs": [],
   "source": [
    "%load_ext autoreload\n",
    "from cartpole import *"
   ]
  },
  {
   "cell_type": "code",
   "execution_count": null,
   "id": "275e7c77-1b14-4dc9-9268-3001ea399515",
   "metadata": {},
   "outputs": [],
   "source": [
    "transition_counts = mdp_data['transition_counts']\n",
    "reward_counts = mdp_data['reward_counts']\n",
    "num_states = mdp_data['num_states']\n",
    "transition_probs = mdp_data['transition_probs']"
   ]
  },
  {
   "cell_type": "code",
   "execution_count": 2,
   "id": "cc5c33b1-2571-4aa7-9fe4-13b6d2c65b20",
   "metadata": {},
   "outputs": [],
   "source": [
    "mdp_data = initialize_mdp_data(5)"
   ]
  },
  {
   "cell_type": "code",
   "execution_count": 4,
   "id": "3ac0df8b-9b3b-4e8e-82b3-acdd9f04c74d",
   "metadata": {},
   "outputs": [
    {
     "name": "stdout",
     "output_type": "stream",
     "text": [
      "{'transition_counts': array([[[0., 0., 0., 0., 0.],\n",
      "        [0., 0., 2., 0., 1.]],\n",
      "\n",
      "       [[0., 0., 0., 0., 0.],\n",
      "        [0., 0., 0., 0., 0.]],\n",
      "\n",
      "       [[0., 0., 0., 0., 0.],\n",
      "        [0., 0., 0., 0., 0.]],\n",
      "\n",
      "       [[0., 0., 0., 0., 0.],\n",
      "        [0., 0., 0., 0., 0.]],\n",
      "\n",
      "       [[0., 0., 0., 0., 0.],\n",
      "        [0., 0., 0., 0., 0.]]]), 'transition_probs': array([[[0.2, 0.2, 0.2, 0.2, 0.2],\n",
      "        [0.2, 0.2, 0.2, 0.2, 0.2]],\n",
      "\n",
      "       [[0.2, 0.2, 0.2, 0.2, 0.2],\n",
      "        [0.2, 0.2, 0.2, 0.2, 0.2]],\n",
      "\n",
      "       [[0.2, 0.2, 0.2, 0.2, 0.2],\n",
      "        [0.2, 0.2, 0.2, 0.2, 0.2]],\n",
      "\n",
      "       [[0.2, 0.2, 0.2, 0.2, 0.2],\n",
      "        [0.2, 0.2, 0.2, 0.2, 0.2]],\n",
      "\n",
      "       [[0.2, 0.2, 0.2, 0.2, 0.2],\n",
      "        [0.2, 0.2, 0.2, 0.2, 0.2]]]), 'reward_counts': array([[0., 0.],\n",
      "       [0., 0.],\n",
      "       [2., 2.],\n",
      "       [0., 0.],\n",
      "       [0., 1.]]), 'reward': array([0., 0., 0., 0., 0.]), 'value': array([0.09594323, 0.00816562, 0.07117691, 0.0699182 , 0.01792118]), 'num_states': 5}\n"
     ]
    }
   ],
   "source": [
    "update_mdp_transition_counts_reward_counts(mdp_data, 0, 1, 2, -1)\n",
    "update_mdp_transition_counts_reward_counts(mdp_data, 0, 1, 4, 0)\n",
    "print(mdp_data)"
   ]
  },
  {
   "cell_type": "code",
   "execution_count": 8,
   "id": "5f043651-b33e-4e3a-8a04-51b490b16c39",
   "metadata": {},
   "outputs": [],
   "source": [
    "from env import *"
   ]
  },
  {
   "cell_type": "code",
   "execution_count": 10,
   "id": "88db9644-6aff-4640-96ca-cfa4f7c8db2b",
   "metadata": {},
   "outputs": [],
   "source": [
    "cart = CartPole(Physics())"
   ]
  },
  {
   "cell_type": "code",
   "execution_count": 30,
   "id": "e09cac6b-3743-49e2-99db-92711e4afe6f",
   "metadata": {},
   "outputs": [
    {
     "data": {
      "text/plain": [
       "148"
      ]
     },
     "execution_count": 30,
     "metadata": {},
     "output_type": "execute_result"
    }
   ],
   "source": [
    "cart.get_state((0, 0, 0.1, 1))"
   ]
  },
  {
   "cell_type": "code",
   "execution_count": 33,
   "id": "40400618-45dc-446d-ab58-c42a0ad84943",
   "metadata": {},
   "outputs": [
    {
     "data": {
      "image/png": "[encoded data removed]",
      "text/plain": [
       "<Figure size 432x288 with 1 Axes>"
      ]
     },
     "metadata": {
      "needs_background": "light"
     },
     "output_type": "display_data"
    }
   ],
   "source": [
    "cart.show_cart((0, 0, 0.1, 1), 0.01)"
   ]
  },
  {
   "cell_type": "code",
   "execution_count": null,
   "id": "d968736c-1775-43a5-92f8-3510f0d3501b",
   "metadata": {
    "tags": []
   },
   "outputs": [],
   "source": [
    "\n",
    "# Simulation parameters\n",
    "pause_time = 0.0001\n",
    "min_trial_length_to_start_display = 100\n",
    "display_started = min_trial_length_to_start_display == 0\n",
    "\n",
    "NUM_STATES = 163\n",
    "GAMMA = 0.995\n",
    "TOLERANCE = 0.01\n",
    "NO_LEARNING_THRESHOLD = 20\n",
    "\n",
    "# Time cycle of the simulation\n",
    "time = 0\n",
    "\n",
    "# These variables perform bookkeeping (how many cycles was the pole\n",
    "# balanced for before it fell). Useful for plotting learning curves.\n",
    "time_steps_to_failure = []\n",
    "num_failures = 0\n",
    "time_at_start_of_current_trial = 0\n",
    "\n",
    "# You should reach convergence well before this\n",
    "max_failures = 500\n",
    "\n",
    "# Initialize a cart pole\n",
    "cart_pole = CartPole(Physics())\n",
    "\n",
    "# Starting `state_tuple` is (0, 0, 0, 0)\n",
    "# x, x_dot, theta, theta_dot represents the actual continuous state vector\n",
    "x, x_dot, theta, theta_dot = 0.0, 0.0, 0.0, 0.0\n",
    "state_tuple = (x, x_dot, theta, theta_dot)\n",
    "\n",
    "# `state` is the number given to this state, you only need to consider\n",
    "# this representation of the state\n",
    "state = cart_pole.get_state(state_tuple)\n",
    "# if min_trial_length_to_start_display == 0 or display_started == 1:\n",
    "#     cart_pole.show_cart(state_tuple, pause_time)\n",
    "\n",
    "mdp_data = initialize_mdp_data(NUM_STATES)\n",
    "\n",
    "# This is the criterion to end the simulation.\n",
    "# You should change it to terminate when the previous\n",
    "# 'NO_LEARNING_THRESHOLD' consecutive value function computations all\n",
    "# converged within one value function iteration. Intuitively, it seems\n",
    "# like there will be little learning after this, so end the simulation\n",
    "# here, and say the overall algorithm has converged.\n",
    "\n",
    "consecutive_no_learning_trials = 0\n",
    "while consecutive_no_learning_trials < NO_LEARNING_THRESHOLD:\n",
    "\n",
    "    action = choose_action(state, mdp_data)\n",
    "\n",
    "    # Get the next state by simulating the dynamics\n",
    "    state_tuple = cart_pole.simulate(action, state_tuple)\n",
    "    # x, x_dot, theta, theta_dot = state_tuple\n",
    "\n",
    "    # Increment simulation time\n",
    "    time = time + 1\n",
    "\n",
    "    # Get the state number corresponding to new state vector\n",
    "    new_state = cart_pole.get_state(state_tuple)\n",
    "    # if display_started == 1:\n",
    "    #     cart_pole.show_cart(state_tuple, pause_time)\n",
    "\n",
    "    # reward function to use - do not change this!\n",
    "    if new_state == NUM_STATES - 1:\n",
    "        R = -1\n",
    "    else:\n",
    "        R = 0\n",
    "\n",
    "    update_mdp_transition_counts_reward_counts(mdp_data, state, action, new_state, R)\n",
    "\n",
    "    # Recompute MDP model whenever pole falls\n",
    "    # Compute the value function V for the new model\n",
    "    if new_state == NUM_STATES - 1:\n",
    "\n",
    "        update_mdp_transition_probs_reward(mdp_data)\n",
    "\n",
    "        converged_in_one_iteration = update_mdp_value(mdp_data, TOLERANCE, GAMMA)\n",
    "\n",
    "        if converged_in_one_iteration:\n",
    "            consecutive_no_learning_trials = consecutive_no_learning_trials + 1\n",
    "        else:\n",
    "            consecutive_no_learning_trials = 0\n",
    "\n",
    "    # Do NOT change this code: Controls the simulation, and handles the case\n",
    "    # when the pole fell and the state must be reinitialized.\n",
    "    if new_state == NUM_STATES - 1:\n",
    "        num_failures += 1\n",
    "        if num_failures >= max_failures:\n",
    "            break\n",
    "        print('[INFO] Failure number {}'.format(num_failures))\n",
    "        time_steps_to_failure.append(time - time_at_start_of_current_trial)\n",
    "        # time_steps_to_failure[num_failures] = time - time_at_start_of_current_trial\n",
    "        time_at_start_of_current_trial = time\n",
    "\n",
    "        if time_steps_to_failure[num_failures - 1] > min_trial_length_to_start_display:\n",
    "            display_started = 1\n",
    "\n",
    "        # Reinitialize state\n",
    "        # x = 0.0\n",
    "        x = -1.1 + np.random.uniform() * 2.2\n",
    "        x_dot, theta, theta_dot = 0.0, 0.0, 0.0\n",
    "        state_tuple = (x, x_dot, theta, theta_dot)\n",
    "        state = cart_pole.get_state(state_tuple)\n",
    "    else:\n",
    "        state = new_state"
   ]
  },
  {
   "cell_type": "code",
   "execution_count": null,
   "id": "302d7ff2-5da4-4926-b387-2eeee110eea7",
   "metadata": {},
   "outputs": [],
   "source": []
  }
 ],
 "metadata": {
  "kernelspec": {
   "display_name": "Python 3 (ipykernel)",
   "language": "python",
   "name": "python3"
  },
  "language_info": {
   "codemirror_mode": {
    "name": "ipython",
    "version": 3
   },
   "file_extension": ".py",
   "mimetype": "text/x-python",
   "name": "python",
   "nbconvert_exporter": "python",
   "pygments_lexer": "ipython3",
   "version": "3.9.6"
  }
 },
 "nbformat": 4,
 "nbformat_minor": 5
}
